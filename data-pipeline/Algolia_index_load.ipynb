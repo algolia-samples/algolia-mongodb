{
  "cells": [
    {
      "cell_type": "markdown",
      "metadata": {
        "id": "arxXI9Tz53l6"
      },
      "source": [
        "# Script Overview\n",
        "This script is used to:\n",
        "1. Connect to Algolia using the [Algolia Python API](https://www.algolia.com/doc/api-client/getting-started/install/python/?client=python) and validate the connection\n",
        "2. Connect to a running MongoDB instance and retrieve sample data\n",
        "3. Prepare the Algolia index\n",
        "3. Load the dataset into Algolia from the MongoDB instance and replace the existing index\n",
        "\n",
        "A raw Python script can be extracted from this Notebook, which can be scheduled when our listings database is updated to ensure that the Algolia index contains up-to-date information\n",
        "\n",
        "\n"
      ]
    },
    {
      "cell_type": "markdown",
      "metadata": {
        "id": "SMclhF1r6BGv"
      },
      "source": [
        "## Step 1 - Connect to Algolia\n",
        "The following steps will contain logic to connect to Algolia using the Python API and validate the connection\n",
        "#### Prerequisites\n",
        "If you want to try this yourself, you need to generate an API key that you can use to test:\n",
        "1. [Register](https://www.algolia.com/users/sign_up) for a free Algolia account, or [Log in](https://www.algolia.com/users/sign_in) to your existing account\n",
        "2. After signing in, an Algolia Application will automatically be created for you. You can either use the default (unnamed) application, or create a new application\n",
        "2. Go to your [API Keys](https://www.algolia.com/account/api-keys/all) section of your application and retrieve your **Application ID** and **Admin API Key**\n",
        "You will need to use both the **Application ID** and **Admin API Key** in when connecting your Algolia account from the Python code below"
      ]
    },
    {
      "cell_type": "code",
      "execution_count": null,
      "metadata": {
        "id": "E3VngtuZ6E5x"
      },
      "outputs": [],
      "source": [
        "# Define the Algolia connection parameters. Fill these out with your own AppId & AdminKey retrieved from the Algolia Dashboard.\n",
        "\n",
        "# The Application ID of your Algolia Application\n",
        "algolia_app_id = '[your_sample_app_id]'\n",
        "# The Admin API Key of your Algolia Application\n",
        "algolia_admin_key = '[your_sample_admin_key'"
      ]
    },
    {
      "cell_type": "code",
      "execution_count": null,
      "metadata": {
        "colab": {
          "base_uri": "https://localhost:8080/"
        },
        "id": "jPGlHVfl56Tv",
        "outputId": "38ef9739-1a1f-413d-d66e-47644ffc9701"
      },
      "outputs": [],
      "source": [
        "# Install the Algolia Python CLient\n",
        "!pip3 install --upgrade \"algoliasearch>=2.0,<3.0\""
      ]
    },
    {
      "cell_type": "code",
      "execution_count": null,
      "metadata": {
        "id": "0kep10Hg8Pit"
      },
      "outputs": [],
      "source": [
        "# Define the Algolia Client and Index that we will use for this test\n",
        "from algoliasearch.search_client import SearchClient\n",
        "algolia_client = SearchClient.create(algolia_app_id, algolia_admin_key)\n",
        "algolia_index = algolia_client.init_index('test_index')"
      ]
    },
    {
      "cell_type": "code",
      "execution_count": null,
      "metadata": {
        "colab": {
          "base_uri": "https://localhost:8080/"
        },
        "id": "mrs_s_uv8RyX",
        "outputId": "5be18292-0e95-4f88-a153-fb07132ac329"
      },
      "outputs": [],
      "source": [
        "# Test the index that we just created. We do this as part of the function, because these variables are not needed later\n",
        "def test_algolia_index(index):\n",
        "    # Clear the index, in case it contains any records\n",
        "    index.clear_objects()\n",
        "    # Create a sample record\n",
        "    record = {\"objectID\": 1, \"name\": \"test_record\"}\n",
        "    # Save it to the index\n",
        "    index.save_object(record).wait()\n",
        "    # Search the index for 'test_record'\n",
        "    search = index.search('test_record')\n",
        "    # Clear all items again to clear our test record\n",
        "    index.clear_objects()\n",
        "    # Verify that the first hit is our object\n",
        "    if len(search[\"hits\"]) == 1 and search[\"hits\"][0][\"objectID\"] == '1':\n",
        "        print(\"Algolia index test successful\")\n",
        "    else:\n",
        "        raise Exception(\"Algolia test failed\")\n",
        "        \n",
        "# Call our test function\n",
        "test_algolia_index(algolia_index)"
      ]
    },
    {
      "cell_type": "markdown",
      "metadata": {
        "id": "e1iiHlJt8Vgj"
      },
      "source": [
        "## Step 2 - Connect to the MongoDB instance and retrieve sample data\n",
        "The following steps will connect to our sample MongoDB database and read the sample data.\n",
        "The sample data is the official sample AirBnb dataset available for Mongo, as it closely resembles our production data.\n",
        "#### MongoDB Location\n",
        "I have created a sample Database on [MongoDB Atlas](https://www.mongodb.com/atlas/database) and loaded it sample data.\n",
        "You can reach this sample database at:\n",
        "- **Host**: algolialistingstest.vswcm0y.mongodb.net\n",
        "- **Username**: ReadOnly\n",
        "- **Password**: AlgoliaTest\n",
        "- **Database**: sample_airbnb\n",
        "- **Collection**: listingsAndReviews\n",
        "\n",
        "We will only retrieve the first 5000 (out of 5555) records from this collection, to stay within Algolia index limits (Algolia limits the size of the index at 10000, but we will have two collections, as reindexing will duplicate the index and swap them when done)"
      ]
    },
    {
      "cell_type": "code",
      "execution_count": null,
      "metadata": {
        "colab": {
          "base_uri": "https://localhost:8080/"
        },
        "id": "kbzXuPteDSWn",
        "outputId": "65a8f606-54cb-4de2-f5df-2f354377883a"
      },
      "outputs": [],
      "source": [
        "# Install pymongo, which can be used to connect to MongoDB from Python. Docs: https://www.mongodb.com/docs/drivers/pymongo/\n",
        "!python -m pip install 'pymongo[srv]'"
      ]
    },
    {
      "cell_type": "code",
      "execution_count": null,
      "metadata": {
        "colab": {
          "base_uri": "https://localhost:8080/"
        },
        "id": "Zc5E6T_rDr-y",
        "outputId": "49d5f557-8035-4464-b2f5-cd7a9000629a"
      },
      "outputs": [],
      "source": [
        "# Define MongoDB connection parameters. These are wrapped in a function to keep the global namespace clean\n",
        "# Change these values if you are not running your own MongoDB instance\n",
        "db_host = 'algolialistingstest.vswcm0y.mongodb.net'\n",
        "db_name = 'sample_airbnb'\n",
        "db_user = 'ReadOnly'\n",
        "db_password = 'AlgoliaTest'\n",
        "collection_name = 'listingsAndReviews'\n",
        "        \n",
        "connection_string = f'mongodb+srv://{db_user}:{db_password}@{db_host}/{db_name}?retryWrites=true&w=majority'\n",
        "# Pring the connection string\n",
        "print(connection_string)"
      ]
    },
    {
      "cell_type": "code",
      "execution_count": null,
      "metadata": {
        "id": "oSXMcACaEE_p"
      },
      "outputs": [],
      "source": [
        "# Connect to MongoDB and get the MongoDB Database and Collection instances\n",
        "from pymongo import MongoClient\n",
        "# Create MongoDB Client\n",
        "mongo_client = MongoClient(connection_string)\n",
        "# Get database instance\n",
        "mongo_database = mongo_client[db_name]\n",
        "# Get collection instance\n",
        "mongo_collection = mongo_database[collection_name]"
      ]
    },
    {
      "cell_type": "code",
      "execution_count": null,
      "metadata": {
        "colab": {
          "base_uri": "https://localhost:8080/"
        },
        "id": "TeAOmSQWEa-3",
        "outputId": "c5cb28cf-8c4f-4398-f32d-369d121fd737"
      },
      "outputs": [],
      "source": [
        "# Retrieve the first 5000 records from collection items\n",
        "mongo_query = mongo_collection.find()\n",
        "initial_items = []\n",
        "for item in mongo_query:\n",
        "    if (len(initial_items) < 5000):\n",
        "        initial_items.append(item)\n",
        "# Print out the size of our initial items array. It should be 5000 if we read all the values from Mongo correctly\n",
        "print(len(initial_items))"
      ]
    },
    {
      "cell_type": "markdown",
      "metadata": {
        "id": "vvfT8IurElmW"
      },
      "source": [
        "## Step 3 - Prepare the Algolia Index\n",
        "In this section, we will configure our Algolia index to optimize the search.\n",
        "We will:\n",
        "1. Prepare a **function to strip the listing objects** that are coming from MongoDB to only keep attributes that are relevant to Algolia, either for searching, ranking or displaying search results.\n",
        "2. Prepare the Algolia Index configuration for Searchable attributes and their priorities, custom ranking logic we use to show our results and extra properties to improve search accuracy.\n",
        "\n",
        "I am using the API documentation of Algolia located [here](https://www.algolia.com/doc/), which contains great resources for simple and advanced use-cases."
      ]
    },
    {
      "cell_type": "markdown",
      "metadata": {
        "id": "hl1qU_r9Eoj2"
      },
      "source": [
        "#### Step 3.1 - Prepare a function to strip listing objects\n",
        "The objects in our MongoDB sample dataset contain many attributes, some of which are irrelevant for our Algolia index. We only keep those that are required either for searching or ranking.\n",
        "- The **_id** property will be kept, as it will be the Algolia object ID as well\n",
        "- The following properties will be kept either for searching, faceting or displaying: *name*,  *space*, *description*, *neighborhood_overview*, *transit*, *property type*, *address*, *accommodates*, *bedrooms*, *beds*, *number_of_reviews*, *bathrooms*, *price*, *weekly_price*, *security_deposit*, *cleaning_fee*, *images*\n",
        "- The *review_scores* on the Airbnb property will be transformed to a *scores* property, which will contain the number of stars that is given to the listing\n",
        "- A *_geoloc* property will be added to the object based on fields in the original *address* object. This will be used for GeoSearching.\n",
        "- The following properties will be **stripped**: *summary*, *listings_url*, *notes*, *access*, *interaction*, *house_rules*, *room_type*, *bed_type*, *minimum_nights*, *maximum_nights*, *cancellation_policy*, *last_scraped*, *calendar_last_scraped*, *first_review*, *last_review*, *amenities*, *extra_people*, *guests_included*, *host*, *availability*, *review_scores*, *reviews*\n"
      ]
    },
    {
      "cell_type": "code",
      "execution_count": null,
      "metadata": {
        "id": "96FGwTeVErxx"
      },
      "outputs": [],
      "source": [
        "# We define a function first that is able to strip long texts longer than 350 characters. This is done because the sample data has some records with very long descriptions, which is irrelevant to our use-case and takes up a lot of space to display\n",
        "def strip_long_text(obj, trailWithDot):\n",
        "  if isinstance(obj, str):\n",
        "    # Strip texts longer than 350 characters after the next full stop (.)\n",
        "    ret = obj[:350].rsplit('.', 1)[0]\n",
        "    if trailWithDot and len(ret) > 0 and not ret.endswith('.'):\n",
        "      ret += '.'\n",
        "    return ret\n",
        "  else: \n",
        "    return obj\n",
        "# We define a function to validate number values coming from MongoDB. MongoDB stores numbers in Decimal128 format, which is not accepted by Algolia (only as string). This function:\n",
        "# 1. Converts numbers to float from Decimal128\n",
        "# 2. Introduces a maximum value for these numbers, as some values in MongoDB are outliers and incorrectly filled out and it gives range filters an unreal max value.\n",
        "def validate_number(num, maxValue):\n",
        "  if num is None:\n",
        "    return num\n",
        "  else:\n",
        "    val = float(str(num))\n",
        "    if val > maxValue:\n",
        "      return maxValue\n",
        "    return val\n",
        "\n",
        "def prepare_algolia_object(mongo_object):\n",
        "    # Create an instance of the Algolia object to index, and set its objectID based on the _id of the mongo object\n",
        "    r = { }\n",
        "    r['objectID'] = mongo_object[\"_id\"]\n",
        "    # prepare the string attributes\n",
        "    for string_property in [['name', True], ['space', True], ['description', True], ['neighborhood_overview', True], ['transit', True], ['address', False], ['property_type', False]]:\n",
        "        if string_property[0] in mongo_object:\n",
        "            r[string_property[0]] = strip_long_text(mongo_object[string_property[0]], string_property[1])\n",
        "    \n",
        "    # prepare the integer properties\n",
        "    for num_property in [['accommodates', 100], ['bedrooms', 20], ['beds', 100], ['number_of_reviews', 1000000], ['bathrooms', 100], ['price', 1000], ['weekly_price', 1000], ['security_deposit', 1000], ['cleaning_fee', 1000]]:\n",
        "        if num_property[0] in mongo_object:\n",
        "          r[num_property[0]] = validate_number(mongo_object[num_property[0]], num_property[1])\n",
        "           \n",
        "    # prepare the Sortable attributes (except for scores rating)\n",
        "   \n",
        "    # set rating if any\n",
        "    if 'review_scores' in mongo_object and 'review_scores_rating' in mongo_object['review_scores']:\n",
        "        stars = round(mongo_object['review_scores']['review_scores_rating'] / 20, 0)\n",
        "        r['scores'] = {\n",
        "            'stars': stars,\n",
        "            'has_one': stars >= 1,\n",
        "            'has_two': stars >= 2,\n",
        "            'has_three': stars >= 3,\n",
        "            'has_four': stars >= 4,\n",
        "            'has_five': stars >= 5\n",
        "        }\n",
        "    # set images\n",
        "    if 'images' in mongo_object:\n",
        "        r['images'] = mongo_object['images']\n",
        "    # set GeoLocation if any\n",
        "    if 'address' in mongo_object:\n",
        "        if 'location' in mongo_object['address']:\n",
        "            if mongo_object['address']['location']['type'] == 'Point':\n",
        "                r['_geoloc'] = {\n",
        "                    'lng': mongo_object['address']['location']['coordinates'][0],\n",
        "                    'lat': mongo_object['address']['location']['coordinates'][1]\n",
        "                }\n",
        "    return r"
      ]
    },
    {
      "cell_type": "markdown",
      "metadata": {
        "id": "5ObnbTIGEuhb"
      },
      "source": [
        "#### Step 3.2 - Prepare Algolia Index properties\n",
        "This section will prepare the indexing properties in the Algolia index with their priority.\n",
        "\n",
        "We will use the following [attributes to retrieve](https://www.algolia.com/doc/api-reference/api-parameters/attributesToRetrieve/). These are attributes that will be returned by Algolia for any search result and displayed on our UI or consumed by our backend, but don't play a crucial role in the : *summary*, *description*, *space*, *neighborhood*, *transit*, *address*, *number_of_reviews*, *scores*, *price*, *cleaning_fee*, *property_type*, *accommodates*, *bedrooms*, *beds*, *bathrooms*, *security_deposit*, *images/picture_url*, *_geoloc*\n",
        "\n",
        "We will use the following [searchable attributes](https://www.algolia.com/doc/api-reference/api-parameters/searchableAttributes/) and priorities:\n",
        "1. (top priority attributes) *name*, *address/street*, *address/suburb*\n",
        "2. *address/market*, *address/country*\n",
        "3. *description* (this will be an [unordered](https://www.algolia.com/doc/api-reference/api-parameters/searchableAttributes/#modifiers) attribute)\n",
        "4. *space* (this will be an [unordered](https://www.algolia.com/doc/api-reference/api-parameters/searchableAttributes/#modifiers) attribute)\n",
        "5. *neighborhood_overview* (this will be an [unordered](https://www.algolia.com/doc/api-reference/api-parameters/searchableAttributes/#modifiers) attribute)\n",
        "5. (least priority) *transit*\n",
        "\n",
        "We will use the following [attributes for faceting](https://www.algolia.com/doc/api-reference/api-parameters/attributesForFaceting/):\n",
        "1. *property_type*\n",
        "2. *address/country*\n",
        "3. *scores/stars*\n",
        "4. *price*\n",
        "5. *cleaning_fee*\n",
        "\n",
        "\n",
        "\n",
        "We will also update the default [ranking logic](https://www.algolia.com/doc/api-reference/api-parameters/ranking/) for our index:\n",
        "1. (top priority) *Geo* - providing search results close-by is the top priority for us\n",
        "2. *Typo*\n",
        "3. *Words*\n",
        "4. *Filters*\n",
        "5. *Proximity*\n",
        "6. *Attribute*\n",
        "7. *Exact*\n",
        "8. *Custom*\n",
        "\n",
        "We will also update our index to [ignore plurals](https://www.algolia.com/doc/api-reference/api-parameters/ignorePlurals/)\n",
        "\n",
        "Other great resources and settings can be found on the [Official Algolia API Reference page](https://www.algolia.com/doc/api-reference/api-parameters/)\n",
        "\n"
      ]
    },
    {
      "cell_type": "code",
      "execution_count": null,
      "metadata": {
        "colab": {
          "base_uri": "https://localhost:8080/"
        },
        "id": "PGPsY-RyEw61",
        "outputId": "8db47c71-3317-43db-f52c-b66c5612cc63"
      },
      "outputs": [],
      "source": [
        "algolia_index.set_settings({\n",
        "    'searchableAttributes': [\n",
        "        'name,address.street,address.suburb',\n",
        "        'address.market,address.country',\n",
        "        'unordered(description)',\n",
        "        'unordered(space)',\n",
        "        'unordered(neighborhood_overview)',\n",
        "        'transit'\n",
        "    ],\n",
        "    'attributesForFaceting': [\n",
        "      'property_type',\n",
        "      'searchable(address.country)',\n",
        "      'scores.stars',\n",
        "      'price',\n",
        "      'cleaning_fee'\n",
        "    ],\n",
        "    'attributesToRetrieve': [\n",
        "      'images.picture_url',\n",
        "      'summary',\n",
        "      'description',\n",
        "      'space',\n",
        "      'neighborhood',\n",
        "      'transit',\n",
        "      'address',\n",
        "      'number_of_reviews',\n",
        "      'scores',\n",
        "      'price',\n",
        "      'cleaning_fee',\n",
        "      'property_type',\n",
        "      'accommodates',\n",
        "      'bedrooms',\n",
        "      'beds',\n",
        "      'bathrooms',\n",
        "      'security_deposit',\n",
        "      '_geoloc'\n",
        "    ],\n",
        "    'ranking': [\n",
        "       'geo',\n",
        "       'typo',\n",
        "       'words',\n",
        "       'filters',\n",
        "       'proximity',\n",
        "       'attribute',\n",
        "       'exact',\n",
        "       'custom'\n",
        "    ],\n",
        "    'ignorePlurals': True\n",
        "})"
      ]
    },
    {
      "cell_type": "markdown",
      "metadata": {
        "id": "yOsKgOInFKuX"
      },
      "source": [
        "## Step 4 - Load the dataset into Algolia from the MongoDB instance\n",
        "The following piece of code loads the dataset into the algolia index.\n",
        "It also replaces the existing index, ensuring that the out-of-date records are replaced."
      ]
    },
    {
      "cell_type": "code",
      "execution_count": null,
      "metadata": {
        "colab": {
          "base_uri": "https://localhost:8080/"
        },
        "id": "4dSgOI0-FNC4",
        "outputId": "8ccb7696-7912-4069-a0b9-d55e596d11d9"
      },
      "outputs": [],
      "source": [
        "# Prepare the Algolia objects\n",
        "algolia_objects = list(map(prepare_algolia_object, initial_items))\n",
        "algolia_index.replace_all_objects(algolia_objects, {\n",
        "    'safe': True\n",
        "}).wait()"
      ]
    }
  ],
  "metadata": {
    "colab": {
      "collapsed_sections": [],
      "name": "Algolia_MongoDB_index_load.ipynb",
      "provenance": []
    },
    "kernelspec": {
      "display_name": "Python 3",
      "name": "python3"
    },
    "language_info": {
      "name": "python"
    }
  },
  "nbformat": 4,
  "nbformat_minor": 0
}
